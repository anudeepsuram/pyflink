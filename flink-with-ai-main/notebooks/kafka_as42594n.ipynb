{
 "cells": [
  {
   "cell_type": "code",
   "execution_count": 11,
   "id": "15b64586",
   "metadata": {},
   "outputs": [],
   "source": [
    "from kafka import KafkaProducer"
   ]
  },
  {
   "cell_type": "code",
   "execution_count": 12,
   "id": "c71d8f94",
   "metadata": {},
   "outputs": [],
   "source": [
    "producer = KafkaProducer(bootstrap_servers='kafka:9092')"
   ]
  },
  {
   "cell_type": "code",
   "execution_count": 13,
   "id": "316ea254",
   "metadata": {},
   "outputs": [
    {
     "data": {
      "text/plain": [
       "<kafka.producer.future.FutureRecordMetadata at 0x7fdeab9660f0>"
      ]
     },
     "execution_count": 13,
     "metadata": {},
     "output_type": "execute_result"
    }
   ],
   "source": [
    "producer.send('as42594n',b'I love working from home :)')"
   ]
  },
  {
   "cell_type": "code",
   "execution_count": 14,
   "id": "2a447327",
   "metadata": {},
   "outputs": [
    {
     "data": {
      "text/plain": [
       "<kafka.producer.future.FutureRecordMetadata at 0x7fdeab9dbe10>"
      ]
     },
     "execution_count": 14,
     "metadata": {},
     "output_type": "execute_result"
    }
   ],
   "source": [
    "producer.send('as42594n',b'URGENT! You have won a 1 week FREE membership !')"
   ]
  },
  {
   "cell_type": "code",
   "execution_count": null,
   "id": "7a3b9296",
   "metadata": {},
   "outputs": [],
   "source": [
    "import random\n",
    "import time\n",
    "\n",
    "data=[\n",
    "    b'I love working from home :)',\n",
    "    b'Nope watching tv at home... Not going out. V bored...',\n",
    "    b'I will come tomorrow di',\n",
    "    b'For ur chance to win a 250 wkly shopping spree TXT: SHOP to 80878. www.txt-2-shop.com custcare 08715705022',\n",
    "    b'URGENT! You have won a 1 week FREE membership !'\n",
    "]\n",
    "\n",
    "topic='as42594n'\n",
    "\n",
    "while True:\n",
    "    tx=random.choice(data)\n",
    "    producer.send('xy12345n',tx)\n",
    "    time.sleep(1)\n"
   ]
  },
  {
   "cell_type": "code",
   "execution_count": null,
   "id": "34100a4c",
   "metadata": {},
   "outputs": [],
   "source": []
  },
  {
   "cell_type": "code",
   "execution_count": null,
   "id": "fb3a0ec8",
   "metadata": {},
   "outputs": [],
   "source": []
  },
  {
   "cell_type": "code",
   "execution_count": null,
   "id": "12dcabcb",
   "metadata": {},
   "outputs": [],
   "source": []
  }
 ],
 "metadata": {
  "kernelspec": {
   "display_name": "Python 3",
   "language": "python",
   "name": "python3"
  },
  "language_info": {
   "codemirror_mode": {
    "name": "ipython",
    "version": 3
   },
   "file_extension": ".py",
   "mimetype": "text/x-python",
   "name": "python",
   "nbconvert_exporter": "python",
   "pygments_lexer": "ipython3",
   "version": "3.7.3"
  }
 },
 "nbformat": 4,
 "nbformat_minor": 5
}
